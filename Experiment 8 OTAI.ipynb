{
 "cells": [
  {
   "cell_type": "code",
   "execution_count": 1,
   "metadata": {
    "colab": {
     "base_uri": "https://localhost:8080/"
    },
    "executionInfo": {
     "elapsed": 1942,
     "status": "ok",
     "timestamp": 1742535117432,
     "user": {
      "displayName": "HARISH M 231501058",
      "userId": "07865809181949680614"
     },
     "user_tz": -330
    },
    "id": "p3tb1N6oEdiH",
    "outputId": "ba222f3f-92ee-48d7-de71-0cb0cc2b6edc"
   },
   "outputs": [
    {
     "name": "stdout",
     "output_type": "stream",
     "text": [
      "weights:[4.16464189 2.90371342]\n"
     ]
    }
   ],
   "source": [
    "import numpy as np\n",
    "\n",
    "def stochastic_gradient_descent(X,y,learning_rate=0.01,epochs=1000):\n",
    "  n_samples,n_features=X.shape\n",
    "  weights=np.zeros(n_features)\n",
    "  for epoch in range(epochs):\n",
    "    for i in range(n_samples):\n",
    "      gradient=(np.dot(X[i],weights)-y[i])*X[i]\n",
    "      weights-=learning_rate*gradient\n",
    "  return weights\n",
    "\n",
    "\n",
    "if __name__==\"__main__\":\n",
    "  np.random.seed(0)\n",
    "  X=2*np.random.rand(100,1)\n",
    "  y=4+3*X +np.random.randn(100,1)\n",
    "  X_b=np.c_[np.ones((100,1)),X]\n",
    "\n",
    "\n",
    "  y=y.ravel()\n",
    "\n",
    "  learning_rate=0.01\n",
    "  epochs=1000\n",
    "\n",
    "  weights=stochastic_gradient_descent(X_b,y,learning_rate,epochs)\n",
    "  print(f\"weights:{weights}\")"
   ]
  },
  {
   "cell_type": "code",
   "execution_count": 2,
   "metadata": {
    "colab": {
     "base_uri": "https://localhost:8080/"
    },
    "executionInfo": {
     "elapsed": 1629,
     "status": "ok",
     "timestamp": 1742535119067,
     "user": {
      "displayName": "HARISH M 231501058",
      "userId": "07865809181949680614"
     },
     "user_tz": -330
    },
    "id": "qLpzlTMMGweE",
    "outputId": "ef180854-f169-47c9-a800-7e34f0e67d79"
   },
   "outputs": [
    {
     "name": "stdout",
     "output_type": "stream",
     "text": [
      "Linear Regression Weights: [5.16464189 1.90371342]\n"
     ]
    }
   ],
   "source": [
    "if __name__ == \"__main__\":\n",
    "  np.random.seed(0)\n",
    "  X=2*np.random.rand(100,1)\n",
    "  y=5+2*X+np.random.randn(100,1)\n",
    "  X_b=np.c_[np.ones((100,1)),X]\n",
    "  y=y.ravel()\n",
    "  learning_rate=0.01\n",
    "  epochs=1000\n",
    "  weights=stochastic_gradient_descent(X_b,y,learning_rate,epochs)\n",
    "  print(f\"Linear Regression Weights: {weights}\")"
   ]
  },
  {
   "cell_type": "code",
   "execution_count": 3,
   "metadata": {
    "colab": {
     "base_uri": "https://localhost:8080/"
    },
    "executionInfo": {
     "elapsed": 26,
     "status": "ok",
     "timestamp": 1742535119094,
     "user": {
      "displayName": "HARISH M 231501058",
      "userId": "07865809181949680614"
     },
     "user_tz": -330
    },
    "id": "e4ef61W8GIUO",
    "outputId": "5c3bf688-6d17-46ac-b8d2-479a75094d4e"
   },
   "outputs": [
    {
     "name": "stdout",
     "output_type": "stream",
     "text": [
      "Minimum of quadratic function: -0.9999907798930037\n"
     ]
    }
   ],
   "source": [
    "def quadratic_loss(x):\n",
    "  return x**2+2*x+1\n",
    "\n",
    "def quadratic_gradient(x):\n",
    "    return 2*x+2\n",
    "\n",
    "x=np.random.randn()\n",
    "lr=0.1\n",
    "\n",
    "for _ in range(50):\n",
    "  x-=lr*quadratic_gradient(x)\n",
    "print(\"Minimum of quadratic function:\",x)"
   ]
  },
  {
   "cell_type": "code",
   "execution_count": 4,
   "metadata": {
    "colab": {
     "base_uri": "https://localhost:8080/"
    },
    "executionInfo": {
     "elapsed": 2,
     "status": "ok",
     "timestamp": 1742535119118,
     "user": {
      "displayName": "HARISH M 231501058",
      "userId": "07865809181949680614"
     },
     "user_tz": -330
    },
    "id": "ckAz9EUKJ5s0",
    "outputId": "9e6a57c0-cd91-4639-fd57-2c2b11813926"
   },
   "outputs": [
    {
     "name": "stdout",
     "output_type": "stream",
     "text": [
      "Minimum of quadratic function: -1.0000053514836842\n"
     ]
    }
   ],
   "source": [
    "def quadratic_loss(x):\n",
    "  return (x-3)**2\n",
    "\n",
    "def quadrtic_gradient(x):\n",
    "  return 2*(x-3)\n",
    "\n",
    "x=np.random.randn()\n",
    "lr=0.1\n",
    "for _ in range(50):\n",
    "  x-=lr*quadratic_gradient(x)\n",
    "print(\"Minimum of quadratic function:\",x)"
   ]
  },
  {
   "cell_type": "code",
   "execution_count": null,
   "metadata": {
    "id": "F9yTe04hJvzO"
   },
   "outputs": [],
   "source": []
  },
  {
   "cell_type": "code",
   "execution_count": null,
   "metadata": {},
   "outputs": [],
   "source": []
  },
  {
   "cell_type": "code",
   "execution_count": null,
   "metadata": {},
   "outputs": [],
   "source": []
  }
 ],
 "metadata": {
  "colab": {
   "authorship_tag": "ABX9TyOx+1CbTSfwB032CEcDVy7r",
   "provenance": []
  },
  "kernelspec": {
   "display_name": "Python [conda env:base] *",
   "language": "python",
   "name": "conda-base-py"
  },
  "language_info": {
   "codemirror_mode": {
    "name": "ipython",
    "version": 3
   },
   "file_extension": ".py",
   "mimetype": "text/x-python",
   "name": "python",
   "nbconvert_exporter": "python",
   "pygments_lexer": "ipython3",
   "version": "3.12.7"
  }
 },
 "nbformat": 4,
 "nbformat_minor": 4
}

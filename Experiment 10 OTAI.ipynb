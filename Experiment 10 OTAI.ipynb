{
 "cells": [
  {
   "cell_type": "code",
   "execution_count": 1,
   "metadata": {
    "colab": {
     "base_uri": "https://localhost:8080/"
    },
    "executionInfo": {
     "elapsed": 37,
     "status": "ok",
     "timestamp": 1743746529269,
     "user": {
      "displayName": "HARISH M 231501058",
      "userId": "07865809181949680614"
     },
     "user_tz": -330
    },
    "id": "llD8JX2pLYxH",
    "outputId": "47fc753a-d801-4ce6-ee32-cfd89240c195"
   },
   "outputs": [
    {
     "name": "stdout",
     "output_type": "stream",
     "text": [
      "\n",
      "✅ Solution 1:\n",
      "Optimal point : x1 = 0,x2 =0\n",
      "Lagrange multiplier λ1 =0\n",
      " Gradient of f at optimal point:[0, 0]\n"
     ]
    }
   ],
   "source": [
    "  #problem 1\n",
    "  import  sympy as sp\n",
    "  x1,x2=sp.symbols('x1 x2',real=True)\n",
    "  l1=sp.symbols('l1',real=True)\n",
    "  f=x1**2+x2**2\n",
    "  g1=x1+x2-1\n",
    "  L=f+l1*g1\n",
    "\n",
    "  grad_L=[sp.diff(L,var) for var in [x1,x2]]\n",
    "  kkt_eqs=[\n",
    "      grad_L[0],\n",
    "      grad_L[1],\n",
    "      l1*g1\n",
    "  ]\n",
    "  solutions=sp.solve(kkt_eqs,[x1,x2,l1],dict=True)\n",
    "\n",
    "\n",
    "  feasible=[]\n",
    "  for sol in solutions:\n",
    "    g1_val=g1.subs(sol)\n",
    "    l1_val=sol[l1]\n",
    "    if g1_val <=0 and l1_val >=0:\n",
    "      feasible.append(sol)\n",
    "\n",
    "  if feasible:\n",
    "    for i,sol in enumerate(feasible):\n",
    "      print(f\"\\n✅ Solution {i+1}:\")\n",
    "      x1_val = sol[x1]\n",
    "      x2_val = sol [x2]\n",
    "      l1_val = sol [l1]\n",
    "      print(f\"Optimal point : x1 = {x1_val},x2 ={x2_val}\")\n",
    "      print(f\"Lagrange multiplier λ1 ={l1_val}\")\n",
    "\n",
    "      grad_f=[sp.diff(f,var) for var in [x1,x2]]\n",
    "      grad_f_val = [g.subs({x1:x1_val,x2:x2_val}) for g in grad_f]\n",
    "      print(f\" Gradient of f at optimal point:{grad_f_val}\")\n",
    "  else:\n",
    "    print(\"❌No feasible KKT solution found.\")"
   ]
  },
  {
   "cell_type": "code",
   "execution_count": 2,
   "metadata": {
    "colab": {
     "base_uri": "https://localhost:8080/"
    },
    "executionInfo": {
     "elapsed": 202,
     "status": "ok",
     "timestamp": 1743746529609,
     "user": {
      "displayName": "HARISH M 231501058",
      "userId": "07865809181949680614"
     },
     "user_tz": -330
    },
    "id": "BaJYTGSiPGBx",
    "outputId": "d3de5eca-ec2a-4271-aaa6-8bb55e2e7233"
   },
   "outputs": [
    {
     "name": "stdout",
     "output_type": "stream",
     "text": [
      "\n",
      "Solution 1:\n",
      "Optimal point: x1 = 0, x2 = 0, x3 = 0\n",
      "Lagrange multipliers: λ1 = 0, λ2 = 0\n",
      "Gradient of f at optimal point: [0, 0, 0]\n"
     ]
    }
   ],
   "source": [
    "#problem 2\n",
    "import sympy as sp\n",
    "\n",
    "x1, x2, x3 = sp.symbols('x1 x2 x3', real=True)\n",
    "l1, l2 = sp.symbols('l1 l2', real=True)\n",
    "\n",
    "\n",
    "f = x1**2 + 2*x2**2 + 3*x3**2\n",
    "\n",
    "\n",
    "g1 = x1 - x2 - 2*x3 - 12\n",
    "g2 = x1 + 2*x2 - 3*x3 - 8\n",
    "\n",
    "\n",
    "L = f + l1 * g1 + l2 * g2\n",
    "\n",
    "\n",
    "grad_L = [sp.diff(L, var) for var in [x1, x2, x3]]\n",
    "\n",
    "\n",
    "kkt_eqs = [\n",
    "    grad_L[0],\n",
    "    grad_L[1],\n",
    "    grad_L[2],\n",
    "    l1 * g1,\n",
    "    l2 * g2\n",
    "]\n",
    "\n",
    "\n",
    "solutions = sp.solve(kkt_eqs, [x1, x2, x3, l1, l2], dict=True)\n",
    "\n",
    "\n",
    "feasible = []\n",
    "for sol in solutions:\n",
    "    g1_val = g1.subs(sol)\n",
    "    l1_val = sol.get(l1, 0)\n",
    "    g2_val = g2.subs(sol)\n",
    "    l2_val = sol.get(l2, 0)\n",
    "    if g1_val <= 0 and l1_val >= 0 and g2_val <= 0 and l2_val >= 0:\n",
    "        feasible.append(sol)\n",
    "\n",
    "\n",
    "if feasible:\n",
    "    for i, sol in enumerate(feasible):\n",
    "        print(f\"\\nSolution {i+1}:\")\n",
    "        x1_val = sol.get(x1, 0)\n",
    "        x2_val = sol.get(x2, 0)\n",
    "        x3_val = sol.get(x3, 0)\n",
    "        l1_val = sol.get(l1, 0)\n",
    "        l2_val = sol.get(l2, 0)\n",
    "        print(f\"Optimal point: x1 = {x1_val}, x2 = {x2_val}, x3 = {x3_val}\")\n",
    "        print(f\"Lagrange multipliers: λ1 = {l1_val}, λ2 = {l2_val}\")\n",
    "        grad_f = [sp.diff(f, var) for var in [x1, x2, x3]]\n",
    "        grad_f_val = [g.subs({x1: x1_val, x2: x2_val, x3: x3_val}) for g in grad_f]\n",
    "        print(f\"Gradient of f at optimal point: {grad_f_val}\")\n",
    "else:\n",
    "    print(\"No feasible KKT solution found.\")"
   ]
  },
  {
   "cell_type": "code",
   "execution_count": 3,
   "metadata": {
    "colab": {
     "base_uri": "https://localhost:8080/"
    },
    "executionInfo": {
     "elapsed": 81,
     "status": "ok",
     "timestamp": 1743746529692,
     "user": {
      "displayName": "HARISH M 231501058",
      "userId": "07865809181949680614"
     },
     "user_tz": -330
    },
    "id": "UQMIgw4rZEbI",
    "outputId": "77801f46-5c0f-495a-f2ee-967fc2adc8dc"
   },
   "outputs": [
    {
     "name": "stdout",
     "output_type": "stream",
     "text": [
      "\n",
      "Solution 1:\n",
      "Optimal point: x1 = 2/3, x2 = 14/9\n",
      "Lagrange multipliers: λ1 = 1/3, λ2 = 0\n",
      "Gradient of f at optimal point: [2/3, 1]\n"
     ]
    }
   ],
   "source": [
    "#problem 3\n",
    "import sympy as sp\n",
    "\n",
    "\n",
    "x1, x2 = sp.symbols('x1 x2', real=True)\n",
    "l1, l2 = sp.symbols('l1 l2', real=True)\n",
    "\n",
    "\n",
    "f = -x1**2 + 2*x1 + x2\n",
    "\n",
    "\n",
    "g1 = 2*x1 + 3*x2 - 6\n",
    "g2 = 2*x1 + x2 - 4\n",
    "\n",
    "\n",
    "L = f - l1 * g1 - l2 * g2\n",
    "\n",
    "\n",
    "grad_L = [sp.diff(L, var) for var in [x1, x2]]\n",
    "\n",
    "\n",
    "kkt_eqs = [\n",
    "    grad_L[0],\n",
    "    grad_L[1],\n",
    "    l1 * g1,\n",
    "    l2 * g2\n",
    "]\n",
    "\n",
    "\n",
    "solutions = sp.solve(kkt_eqs, [x1, x2, l1, l2], dict=True)\n",
    "\n",
    "\n",
    "feasible = []\n",
    "for sol in solutions:\n",
    "    g1_val = g1.subs(sol)\n",
    "    l1_val = sol.get(l1, 0)\n",
    "    g2_val = g2.subs(sol)\n",
    "    l2_val = sol.get(l2, 0)\n",
    "    if g1_val <= 0 and l1_val >= 0 and g2_val <= 0 and l2_val >= 0:\n",
    "        feasible.append(sol)\n",
    "\n",
    "\n",
    "if feasible:\n",
    "    for i, sol in enumerate(feasible):\n",
    "        print(f\"\\nSolution {i+1}:\")\n",
    "        x1_val = sol.get(x1, 0)\n",
    "        x2_val = sol.get(x2, 0)\n",
    "        l1_val = sol.get(l1, 0)\n",
    "        l2_val = sol.get(l2, 0)\n",
    "        print(f\"Optimal point: x1 = {x1_val}, x2 = {x2_val}\")\n",
    "        print(f\"Lagrange multipliers: λ1 = {l1_val}, λ2 = {l2_val}\")\n",
    "        grad_f = [sp.diff(f, var) for var in [x1, x2]]\n",
    "        grad_f_val = [g.subs({x1: x1_val, x2: x2_val}) for g in grad_f]\n",
    "        print(f\"Gradient of f at optimal point: {grad_f_val}\")\n",
    "else:\n",
    "    print(\"No feasible KKT solution found.\")"
   ]
  },
  {
   "cell_type": "code",
   "execution_count": 4,
   "metadata": {
    "colab": {
     "base_uri": "https://localhost:8080/"
    },
    "executionInfo": {
     "elapsed": 45,
     "status": "ok",
     "timestamp": 1743746548000,
     "user": {
      "displayName": "HARISH M 231501058",
      "userId": "07865809181949680614"
     },
     "user_tz": -330
    },
    "id": "CtB8gcbLZF7X",
    "outputId": "32100a2b-4395-432d-f312-06d3a33cc9b9"
   },
   "outputs": [
    {
     "name": "stdout",
     "output_type": "stream",
     "text": [
      "\n",
      "Solution 1:\n",
      "Optimal point: x1 = 4/5, x2 = 8/5\n",
      "Lagrange multipliers: λ1 = 2/5, λ2 = 0\n",
      "Gradient of f at optimal point: [-2/5, -4/5]\n"
     ]
    }
   ],
   "source": [
    "#problem 4\n",
    "import sympy as sp\n",
    "\n",
    "\n",
    "x1, x2 = sp.symbols('x1 x2', real=True)\n",
    "l1, l2 = sp.symbols('l1 l2', real=True)\n",
    "\n",
    "\n",
    "f = (x1 - 1)**2 + (x2 - 2)**2\n",
    "\n",
    "\n",
    "g1 = x1 + 2*x2 - 4\n",
    "g2 = -x1\n",
    "\n",
    "\n",
    "L = f + l1 * g1 + l2 * g2\n",
    "\n",
    "\n",
    "grad_L = [sp.diff(L, var) for var in [x1, x2]]\n",
    "\n",
    "\n",
    "kkt_eqs = [\n",
    "    grad_L[0],\n",
    "    grad_L[1],\n",
    "    l1 * g1,\n",
    "    l2 * g2\n",
    "]\n",
    "\n",
    "\n",
    "solutions = sp.solve(kkt_eqs, [x1, x2, l1, l2], dict=True)\n",
    "\n",
    "\n",
    "feasible = []\n",
    "for sol in solutions:\n",
    "    g1_val = g1.subs(sol)\n",
    "    l1_val = sol.get(l1, 0)\n",
    "    g2_val = g2.subs(sol)\n",
    "    l2_val = sol.get(l2, 0)\n",
    "    if g1_val <= 0 and l1_val >= 0 and g2_val <= 0 and l2_val >= 0:\n",
    "        feasible.append(sol)\n",
    "\n",
    "\n",
    "if feasible:\n",
    "    for i, sol in enumerate(feasible):\n",
    "        print(f\"\\nSolution {i+1}:\")\n",
    "        x1_val = sol.get(x1, 0)\n",
    "        x2_val = sol.get(x2, 0)\n",
    "        l1_val = sol.get(l1, 0)\n",
    "        l2_val = sol.get(l2, 0)\n",
    "        print(f\"Optimal point: x1 = {x1_val}, x2 = {x2_val}\")\n",
    "        print(f\"Lagrange multipliers: λ1 = {l1_val}, λ2 = {l2_val}\")\n",
    "        grad_f = [sp.diff(f, var) for var in [x1, x2]]\n",
    "        grad_f_val = [g.subs({x1: x1_val, x2: x2_val}) for g in grad_f]\n",
    "        print(f\"Gradient of f at optimal point: {grad_f_val}\")\n",
    "else:\n",
    "    print(\"No feasible KKT solution found.\")"
   ]
  },
  {
   "cell_type": "code",
   "execution_count": null,
   "metadata": {
    "executionInfo": {
     "elapsed": 2,
     "status": "ok",
     "timestamp": 1743746529951,
     "user": {
      "displayName": "HARISH M 231501058",
      "userId": "07865809181949680614"
     },
     "user_tz": -330
    },
    "id": "QL77OT89ZHkW"
   },
   "outputs": [],
   "source": []
  },
  {
   "cell_type": "code",
   "execution_count": null,
   "metadata": {},
   "outputs": [],
   "source": []
  }
 ],
 "metadata": {
  "colab": {
   "authorship_tag": "ABX9TyP/HqA7GV0VjkYDKAFYiRDI",
   "provenance": []
  },
  "kernelspec": {
   "display_name": "Python 3 (ipykernel)",
   "language": "python",
   "name": "python3"
  },
  "language_info": {
   "codemirror_mode": {
    "name": "ipython",
    "version": 3
   },
   "file_extension": ".py",
   "mimetype": "text/x-python",
   "name": "python",
   "nbconvert_exporter": "python",
   "pygments_lexer": "ipython3",
   "version": "3.12.7"
  }
 },
 "nbformat": 4,
 "nbformat_minor": 4
}

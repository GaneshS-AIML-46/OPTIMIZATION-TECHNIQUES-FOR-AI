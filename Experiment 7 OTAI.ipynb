{
 "cells": [
  {
   "cell_type": "code",
   "execution_count": 1,
   "metadata": {
    "id": "P94MmMBO-GFJ"
   },
   "outputs": [],
   "source": [
    "#1. Knapsack Problem\n",
    "def knapsack(weights,values,W):\n",
    "  n=len(weights)\n",
    "  dp=[[0 for _ in range(W+1)]for _ in range(n+1)]\n",
    "\n",
    "  for i in range(n+1):\n",
    "    for w in range (W+1):\n",
    "      if i ==0 or w==0:\n",
    "        dp[i][w]=0\n",
    "      elif weights[i-1]<=w:\n",
    "          dp[i][w]=max(values[i-1]+dp[i-1][w-weights[i-1]],dp[i-1][w])\n",
    "      else:\n",
    "          dp[i][w]=dp[i-1][w]\n",
    "  return dp[n][W]\n",
    "\n",
    "\n"
   ]
  },
  {
   "cell_type": "code",
   "execution_count": 2,
   "metadata": {
    "colab": {
     "base_uri": "https://localhost:8080/"
    },
    "executionInfo": {
     "elapsed": 17,
     "status": "ok",
     "timestamp": 1741324569762,
     "user": {
      "displayName": "GANESH S 231501046",
      "userId": "12955083252446110846"
     },
     "user_tz": -330
    },
    "id": "xnatAV1pCB1O",
    "outputId": "db3e54cf-9ba9-427f-8b64-702d58d412b4"
   },
   "outputs": [
    {
     "name": "stdout",
     "output_type": "stream",
     "text": [
      "Maximum value in kanpsack: 9\n"
     ]
    }
   ],
   "source": [
    "#1 example\n",
    "weights=[1,3,4,5]\n",
    "values=[1,4,5,7]\n",
    "W=7\n",
    "max_values=knapsack(weights,values,W)\n",
    "print(\"Maximum value in kanpsack:\",max_values)\n",
    "\n"
   ]
  },
  {
   "cell_type": "code",
   "execution_count": 3,
   "metadata": {
    "colab": {
     "base_uri": "https://localhost:8080/"
    },
    "executionInfo": {
     "elapsed": 12,
     "status": "ok",
     "timestamp": 1741324571305,
     "user": {
      "displayName": "GANESH S 231501046",
      "userId": "12955083252446110846"
     },
     "user_tz": -330
    },
    "id": "iNs9wA6wB_CG",
    "outputId": "37323103-e234-437b-ae5c-a8a3dfd87594"
   },
   "outputs": [
    {
     "name": "stdout",
     "output_type": "stream",
     "text": [
      "Maximum value in kanpsack: 7\n"
     ]
    }
   ],
   "source": [
    "#2\n",
    "weights=[2,3,4,5]\n",
    "values=[3,4,5,6]\n",
    "W=5\n",
    "max_values=knapsack(weights,values,W)\n",
    "print(\"Maximum value in kanpsack:\",max_values)"
   ]
  },
  {
   "cell_type": "code",
   "execution_count": 4,
   "metadata": {
    "colab": {
     "base_uri": "https://localhost:8080/"
    },
    "executionInfo": {
     "elapsed": 13,
     "status": "ok",
     "timestamp": 1741324572377,
     "user": {
      "displayName": "GANESH S 231501046",
      "userId": "12955083252446110846"
     },
     "user_tz": -330
    },
    "id": "xVuZPpxbB8vP",
    "outputId": "30a56bf8-f85c-459b-afdb-240286de3944"
   },
   "outputs": [
    {
     "name": "stdout",
     "output_type": "stream",
     "text": [
      "Maximum value in kanpsack: 28\n"
     ]
    }
   ],
   "source": [
    "#3\n",
    "weights=[2,3,4,5,6,7,8]\n",
    "values=[3,4,8,8,10,13,15]\n",
    "W=15\n",
    "max_values=knapsack(weights,values,W)\n",
    "print(\"Maximum value in kanpsack:\",max_values)\n"
   ]
  },
  {
   "cell_type": "code",
   "execution_count": 5,
   "metadata": {
    "colab": {
     "base_uri": "https://localhost:8080/"
    },
    "executionInfo": {
     "elapsed": 9,
     "status": "ok",
     "timestamp": 1741324573643,
     "user": {
      "displayName": "GANESH S 231501046",
      "userId": "12955083252446110846"
     },
     "user_tz": -330
    },
    "id": "H7Q6O9uEB5If",
    "outputId": "34994c3b-8ba4-4056-877c-00b230730d6e"
   },
   "outputs": [
    {
     "name": "stdout",
     "output_type": "stream",
     "text": [
      "Maximum value in kanpsack: 40\n"
     ]
    }
   ],
   "source": [
    "#4 example\n",
    "weights=[1,2,3,4,5,6,7,8,9,10]\n",
    "values=[10,9,8,7,6,5,4,3,2,1]\n",
    "W=15\n",
    "max_values=knapsack(weights,values,W)\n",
    "print(\"Maximum value in kanpsack:\",max_values)\n"
   ]
  },
  {
   "cell_type": "code",
   "execution_count": 6,
   "metadata": {
    "id": "DNWYoPWLCIJu"
   },
   "outputs": [],
   "source": [
    "#2. Subset Sum Problem\n",
    "def is_subset_sum(num,target):\n",
    "  n=len(nums)\n",
    "  dp=[[False]*(target+1)for _ in range(n+1)]\n",
    "\n",
    "  for i in range(n+1):\n",
    "    dp[i][0]=True\n",
    "\n",
    "  for i in range(1,n+1):\n",
    "    for j in range(1,target+1):\n",
    "      if nums[i-1]>j:\n",
    "        dp[i][j]=dp[i-1][j]\n",
    "      else:\n",
    "        dp[i][j]=dp[i-1][j] or dp[i-1][j-nums[i-1]]\n",
    "  return dp[n][target]\n"
   ]
  },
  {
   "cell_type": "code",
   "execution_count": 7,
   "metadata": {
    "colab": {
     "base_uri": "https://localhost:8080/"
    },
    "executionInfo": {
     "elapsed": 8,
     "status": "ok",
     "timestamp": 1741325076362,
     "user": {
      "displayName": "GANESH S 231501046",
      "userId": "12955083252446110846"
     },
     "user_tz": -330
    },
    "id": "hKGomBwmDp0n",
    "outputId": "2cfe7b26-976d-4d70-da99-2f4338ae9a0d"
   },
   "outputs": [
    {
     "name": "stdout",
     "output_type": "stream",
     "text": [
      "True\n"
     ]
    }
   ],
   "source": [
    "#1\n",
    "nums=[3,34,4,12,5,2]\n",
    "target_sum=9\n",
    "print(is_subset_sum(nums,target_sum))"
   ]
  },
  {
   "cell_type": "code",
   "execution_count": 8,
   "metadata": {
    "colab": {
     "base_uri": "https://localhost:8080/"
    },
    "executionInfo": {
     "elapsed": 13,
     "status": "ok",
     "timestamp": 1741325128460,
     "user": {
      "displayName": "GANESH S 231501046",
      "userId": "12955083252446110846"
     },
     "user_tz": -330
    },
    "id": "H66BiFSpECqP",
    "outputId": "a98ca2cd-d346-48f7-b5b3-1a51ecfa352b"
   },
   "outputs": [
    {
     "name": "stdout",
     "output_type": "stream",
     "text": [
      "True\n"
     ]
    }
   ],
   "source": [
    "#2\n",
    "nums=[1,2,3,7]\n",
    "target_sum=6\n",
    "print(is_subset_sum(nums,target_sum))"
   ]
  },
  {
   "cell_type": "code",
   "execution_count": 9,
   "metadata": {
    "colab": {
     "base_uri": "https://localhost:8080/"
    },
    "executionInfo": {
     "elapsed": 16,
     "status": "ok",
     "timestamp": 1741325152048,
     "user": {
      "displayName": "GANESH S 231501046",
      "userId": "12955083252446110846"
     },
     "user_tz": -330
    },
    "id": "5uZeftasEOkG",
    "outputId": "624923b9-9d74-4b73-9202-cad34e512b2c"
   },
   "outputs": [
    {
     "name": "stdout",
     "output_type": "stream",
     "text": [
      "False\n"
     ]
    }
   ],
   "source": [
    "#3\n",
    "nums=[1,2,5]\n",
    "target_sum=4\n",
    "print(is_subset_sum(nums,target_sum))"
   ]
  },
  {
   "cell_type": "code",
   "execution_count": 10,
   "metadata": {
    "colab": {
     "base_uri": "https://localhost:8080/"
    },
    "executionInfo": {
     "elapsed": 4,
     "status": "ok",
     "timestamp": 1741325182714,
     "user": {
      "displayName": "GANESH S 231501046",
      "userId": "12955083252446110846"
     },
     "user_tz": -330
    },
    "id": "lEL3IDptET3m",
    "outputId": "ee9b23d2-ef10-4f7e-d6bc-a9f20bbc57c7"
   },
   "outputs": [
    {
     "name": "stdout",
     "output_type": "stream",
     "text": [
      "True\n"
     ]
    }
   ],
   "source": [
    "#4\n",
    "nums=[3,5,9,12]\n",
    "target_sum=8\n",
    "print(is_subset_sum(nums,target_sum))"
   ]
  },
  {
   "cell_type": "code",
   "execution_count": 11,
   "metadata": {
    "id": "rLzB4TwCEdf-"
   },
   "outputs": [],
   "source": [
    "#3. Longest Common Subsequence Problem\n",
    "\n",
    "def longest_common_subsequences(X,Y):\n",
    "  m=len(X)\n",
    "  n=len(Y)\n",
    "  dp=[[0]*(n+1)for _ in range(m+1)]\n",
    "\n",
    "  for i in range(1,m+1):\n",
    "    for j in range(1,n+1):\n",
    "      if X[i-1]==Y[j-1]:\n",
    "        dp[i][j]=dp[i-1][j-1]+1\n",
    "      else:\n",
    "        dp[i][j] =max(dp[i-1][j],dp[i][j-1])\n",
    "  return dp[m][n]\n"
   ]
  },
  {
   "cell_type": "code",
   "execution_count": 12,
   "metadata": {
    "colab": {
     "base_uri": "https://localhost:8080/"
    },
    "executionInfo": {
     "elapsed": 9,
     "status": "ok",
     "timestamp": 1741325535378,
     "user": {
      "displayName": "GANESH S 231501046",
      "userId": "12955083252446110846"
     },
     "user_tz": -330
    },
    "id": "NLr9GCTpFq6_",
    "outputId": "7d08c0e5-761f-446c-97e8-4e33432b81f8"
   },
   "outputs": [
    {
     "name": "stdout",
     "output_type": "stream",
     "text": [
      "4\n"
     ]
    }
   ],
   "source": [
    "#1\n",
    "X1=\"AGGTAB\"\n",
    "Y1=\"GXTXAYB\"\n",
    "print(longest_common_subsequences(X1,Y1))"
   ]
  },
  {
   "cell_type": "code",
   "execution_count": 13,
   "metadata": {
    "colab": {
     "base_uri": "https://localhost:8080/"
    },
    "executionInfo": {
     "elapsed": 22,
     "status": "ok",
     "timestamp": 1741325585659,
     "user": {
      "displayName": "GANESH S 231501046",
      "userId": "12955083252446110846"
     },
     "user_tz": -330
    },
    "id": "RWShCG90FxrH",
    "outputId": "f12035a5-a7fe-4566-f9e1-2657cc01a691"
   },
   "outputs": [
    {
     "name": "stdout",
     "output_type": "stream",
     "text": [
      "4\n"
     ]
    }
   ],
   "source": [
    "#2\n",
    "X2=\"ABCBDAB\"\n",
    "Y2=\"BDCAB\"\n",
    "print(longest_common_subsequences(X2,Y2))"
   ]
  },
  {
   "cell_type": "code",
   "execution_count": 14,
   "metadata": {
    "colab": {
     "base_uri": "https://localhost:8080/"
    },
    "executionInfo": {
     "elapsed": 13,
     "status": "ok",
     "timestamp": 1741325642667,
     "user": {
      "displayName": "GANESH S 231501046",
      "userId": "12955083252446110846"
     },
     "user_tz": -330
    },
    "id": "osrMML5gF-eO",
    "outputId": "015dbdbd-dbfd-40e5-8d01-89261781fbad"
   },
   "outputs": [
    {
     "name": "stdout",
     "output_type": "stream",
     "text": [
      "2\n"
     ]
    }
   ],
   "source": [
    "#3\n",
    "X3=\"ABC\"\n",
    "Y3=\"AC\"\n",
    "print(longest_common_subsequences(X3,Y3))"
   ]
  },
  {
   "cell_type": "code",
   "execution_count": 15,
   "metadata": {
    "colab": {
     "base_uri": "https://localhost:8080/"
    },
    "executionInfo": {
     "elapsed": 13,
     "status": "ok",
     "timestamp": 1741325674930,
     "user": {
      "displayName": "GANESH S 231501046",
      "userId": "12955083252446110846"
     },
     "user_tz": -330
    },
    "id": "tJRVj3fWGLMf",
    "outputId": "f86bfb04-b22b-4e59-ec64-9d188f0e2180"
   },
   "outputs": [
    {
     "name": "stdout",
     "output_type": "stream",
     "text": [
      "2\n"
     ]
    }
   ],
   "source": [
    "#4\n",
    "X4=\"AXYT\"\n",
    "Y4=\"AYZX\"\n",
    "print(longest_common_subsequences(X4,Y4))"
   ]
  },
  {
   "cell_type": "code",
   "execution_count": null,
   "metadata": {},
   "outputs": [],
   "source": []
  },
  {
   "cell_type": "code",
   "execution_count": null,
   "metadata": {},
   "outputs": [],
   "source": []
  },
  {
   "cell_type": "code",
   "execution_count": null,
   "metadata": {},
   "outputs": [],
   "source": []
  },
  {
   "cell_type": "code",
   "execution_count": null,
   "metadata": {},
   "outputs": [],
   "source": []
  }
 ],
 "metadata": {
  "colab": {
   "provenance": [
    {
     "file_id": "1wG-pXsFVWqsAQMkWmwSTl2WDriIJCtjN",
     "timestamp": 1743142258599
    }
   ]
  },
  "kernelspec": {
   "display_name": "Python [conda env:base] *",
   "language": "python",
   "name": "conda-base-py"
  },
  "language_info": {
   "codemirror_mode": {
    "name": "ipython",
    "version": 3
   },
   "file_extension": ".py",
   "mimetype": "text/x-python",
   "name": "python",
   "nbconvert_exporter": "python",
   "pygments_lexer": "ipython3",
   "version": "3.12.7"
  }
 },
 "nbformat": 4,
 "nbformat_minor": 4
}

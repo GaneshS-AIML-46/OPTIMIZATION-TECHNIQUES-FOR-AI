{
 "cells": [
  {
   "cell_type": "code",
   "execution_count": 1,
   "metadata": {
    "colab": {
     "base_uri": "https://localhost:8080/"
    },
    "executionInfo": {
     "elapsed": 56,
     "status": "ok",
     "timestamp": 1743138360109,
     "user": {
      "displayName": "HARISH M 231501058",
      "userId": "07865809181949680614"
     },
     "user_tz": -330
    },
    "id": "Y4Y-ygGgID1C",
    "outputId": "67522d67-8a88-43f1-8afe-90e6c7a8f862"
   },
   "outputs": [
    {
     "name": "stdout",
     "output_type": "stream",
     "text": [
      "Optimized parameters: [1.98254019 0.47917342]\n"
     ]
    }
   ],
   "source": [
    "import numpy as np\n",
    "from scipy.optimize import least_squares\n",
    "def model(x,t):\n",
    "  return x[0] * np.exp(-x[1]*t)\n",
    "def residual(x,t,y):\n",
    "  return model(x,t)-y\n",
    "\n",
    "np.random.seed(123)\n",
    "t=np.linspace(0,1,50)\n",
    "y_true=[2.0,0.5]\n",
    "y=model(y_true,t)+0.1*np.random.randn(50)\n",
    "\n",
    "x0=[1.0,1.0]\n",
    "result=least_squares(residual,x0,args=(t,y))\n",
    "print(\"Optimized parameters:\",result.x)"
   ]
  },
  {
   "cell_type": "code",
   "execution_count": 2,
   "metadata": {
    "colab": {
     "base_uri": "https://localhost:8080/"
    },
    "executionInfo": {
     "elapsed": 28,
     "status": "ok",
     "timestamp": 1743138804509,
     "user": {
      "displayName": "HARISH M 231501058",
      "userId": "07865809181949680614"
     },
     "user_tz": -330
    },
    "id": "GlUNh3_tIeH2",
    "outputId": "e93adabe-aba4-420e-e17e-433530368c01"
   },
   "outputs": [
    {
     "name": "stdout",
     "output_type": "stream",
     "text": [
      "Optimized parameters: [5.19893281 0.77489624 3.10139266]\n"
     ]
    }
   ],
   "source": [
    "import numpy as np\n",
    "from scipy.optimize import least_squares\n",
    "def model(x,t):\n",
    "  return x[0] /(1+ np.exp(-x[1]*(t-x[2])))\n",
    "def residual(x,t,y):\n",
    "  return model(x,t)-y\n",
    "\n",
    "np.random.seed(456)\n",
    "t=np.linspace(0,5,100)\n",
    "y_true=[5.0,0.8,3.0]\n",
    "y=model(y_true,t)+0.1*np.random.randn(100)\n",
    "\n",
    "x0=[1.0,1.0,1.0]\n",
    "result=least_squares(residual,x0,args=(t,y))\n",
    "print(\"Optimized parameters:\",result.x)"
   ]
  },
  {
   "cell_type": "code",
   "execution_count": 3,
   "metadata": {
    "colab": {
     "base_uri": "https://localhost:8080/"
    },
    "executionInfo": {
     "elapsed": 68,
     "status": "ok",
     "timestamp": 1743138925304,
     "user": {
      "displayName": "HARISH M 231501058",
      "userId": "07865809181949680614"
     },
     "user_tz": -330
    },
    "id": "yNfRyZEIKPNv",
    "outputId": "e042069b-0b36-4a3c-f79b-52ec9e565925"
   },
   "outputs": [
    {
     "name": "stdout",
     "output_type": "stream",
     "text": [
      "Optimized parameters: [0.97586467 0.54474845 0.77409824 0.9758691  0.54470819 0.77413316]\n"
     ]
    }
   ],
   "source": [
    "import numpy as np\n",
    "from scipy.optimize import least_squares\n",
    "def model(x,t):\n",
    "  return x[0] * np.sin(x[1]*t+x[2])+x[3]*np.sin(x[4]*t+x[5])\n",
    "def residual(x,t,y):\n",
    "  return model(x,t)-y\n",
    "\n",
    "np.random.seed(789)\n",
    "t=np.linspace(0,10,200)\n",
    "y_true=[2.0,0.5,1.0,1.0,2.0,2.5]\n",
    "y=model(y_true,t)+0.1*np.random.randn(200)\n",
    "\n",
    "x0=[1.0,1.0,1.0,1.0,1.0,1.0]\n",
    "result=least_squares(residual,x0,args=(t,y))\n",
    "print(\"Optimized parameters:\",result.x)"
   ]
  },
  {
   "cell_type": "code",
   "execution_count": null,
   "metadata": {
    "id": "0opllNBzLSiJ"
   },
   "outputs": [],
   "source": []
  },
  {
   "cell_type": "code",
   "execution_count": null,
   "metadata": {},
   "outputs": [],
   "source": []
  },
  {
   "cell_type": "code",
   "execution_count": null,
   "metadata": {},
   "outputs": [],
   "source": []
  },
  {
   "cell_type": "code",
   "execution_count": null,
   "metadata": {},
   "outputs": [],
   "source": []
  },
  {
   "cell_type": "code",
   "execution_count": null,
   "metadata": {},
   "outputs": [],
   "source": []
  }
 ],
 "metadata": {
  "colab": {
   "authorship_tag": "ABX9TyO80xU4cFtvKvVZKhSU5Q8k",
   "provenance": []
  },
  "kernelspec": {
   "display_name": "Python [conda env:base] *",
   "language": "python",
   "name": "conda-base-py"
  },
  "language_info": {
   "codemirror_mode": {
    "name": "ipython",
    "version": 3
   },
   "file_extension": ".py",
   "mimetype": "text/x-python",
   "name": "python",
   "nbconvert_exporter": "python",
   "pygments_lexer": "ipython3",
   "version": "3.12.7"
  }
 },
 "nbformat": 4,
 "nbformat_minor": 4
}

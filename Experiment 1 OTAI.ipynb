{
 "cells": [
  {
   "cell_type": "code",
   "execution_count": 1,
   "metadata": {
    "executionInfo": {
     "elapsed": 390,
     "status": "ok",
     "timestamp": 1738904564666,
     "user": {
      "displayName": "GIRIVASANTH V 231501048",
      "userId": "16921059914672515157"
     },
     "user_tz": -330
    },
    "id": "RbO982ZTqwuB"
   },
   "outputs": [],
   "source": [
    "import numpy as np\n",
    "from scipy.optimize import linprog"
   ]
  },
  {
   "cell_type": "code",
   "execution_count": null,
   "metadata": {
    "colab": {
     "base_uri": "https://localhost:8080/"
    },
    "executionInfo": {
     "elapsed": 628,
     "status": "ok",
     "timestamp": 1737696438816,
     "user": {
      "displayName": "GIRIVASANTH V 231501048",
      "userId": "16921059914672515157"
     },
     "user_tz": -330
    },
    "id": "9Ez6hhIBrPP0",
    "outputId": "7a678ad9-cadc-4493-caa0-a247243d329f"
   },
   "outputs": [
    {
     "name": "stdout",
     "output_type": "stream",
     "text": [
      "Optimal Allocation:\n",
      "[[20. 10.  0.]\n",
      " [20.  0.  0.]\n",
      " [ 0. 50.  0.]\n",
      " [ 0. 10. 30.]]\n",
      "Total Cost: 380.0\n"
     ]
    },
    {
     "name": "stderr",
     "output_type": "stream",
     "text": [
      "<ipython-input-8-7dfb4e412eda>:20: DeprecationWarning: `method='simplex'` is deprecated and will be removed in SciPy 1.11.0. Please use one of the HiGHS solvers (e.g. `method='highs'`) in new code.\n",
      "  result=linprog(c,A_eq=A_eq,b_eq=b_eq,method='simplex')\n",
      "<ipython-input-8-7dfb4e412eda>:20: OptimizeWarning: A_eq does not appear to be of full row rank. To improve performance, check the problem formulation for redundant equality constraints.\n",
      "  result=linprog(c,A_eq=A_eq,b_eq=b_eq,method='simplex')\n"
     ]
    }
   ],
   "source": [
    "def transportation_problem(supply, demand, costs):\n",
    "    if sum(supply) != sum(demand):\n",
    "        if sum(supply) < sum(demand):\n",
    "            diff=sum(demand)-sum(supply)\n",
    "            supply.append(diff)\n",
    "            costs=np.hstack((costs,np.zeros((costs.shape[0],1))))\n",
    "        else:\n",
    "            diff=sum(supply)-sum(demand)\n",
    "            demand.append(diff)\n",
    "            costs=np.vstack((costs,np.zeros((1,costs.shape[1]))))\n",
    "    num_sources=len(supply)\n",
    "    num_destinations=len(demand)\n",
    "    A_eq=np.zeros((num_sources+num_destinations,num_sources*num_destinations))\n",
    "    for i in range(num_sources):\n",
    "        A_eq[i,i*num_destinations:(i+1)*num_destinations]=1\n",
    "    for j in range(num_sources,num_sources+num_destinations):\n",
    "        A_eq[j,j-num_sources::num_destinations]=1\n",
    "    b_eq=np.concatenate((supply,demand))\n",
    "    c=costs.flatten()\n",
    "    result=linprog(c,A_eq=A_eq,b_eq=b_eq,method='simplex')\n",
    "    allocation=result.x.reshape(num_sources,num_destinations)\n",
    "    total_cost=result.fun\n",
    "    return allocation,total_cost\n",
    "supply=[30,20,50]\n",
    "demand=[40,70,30]\n",
    "cost=np.array([[6,8,10],[9,12,13],[14,16,18]])\n",
    "allocation,total_cost=transportation_problem(supply,demand,cost)\n",
    "print(\"Optimal Allocation:\")\n",
    "print(allocation)\n",
    "print(\"Total Cost:\",total_cost)\n"
   ]
  },
  {
   "cell_type": "code",
   "execution_count": 2,
   "metadata": {
    "colab": {
     "base_uri": "https://localhost:8080/"
    },
    "executionInfo": {
     "elapsed": 198,
     "status": "ok",
     "timestamp": 1738904570754,
     "user": {
      "displayName": "GIRIVASANTH V 231501048",
      "userId": "16921059914672515157"
     },
     "user_tz": -330
    },
    "id": "MJ8tQZevrPMc",
    "outputId": "c8ea963c-6105-4974-d5d2-2d040f8f9583"
   },
   "outputs": [
    {
     "name": "stdout",
     "output_type": "stream",
     "text": [
      "Optimal Allocation:\n",
      "[[ 0. 50.  0.]\n",
      " [30. 10.  0.]\n",
      " [ 0. 10. 50.]]\n",
      "Total Cost: 670.0\n"
     ]
    },
    {
     "name": "stderr",
     "output_type": "stream",
     "text": [
      "<ipython-input-2-ba8d6412250b>:20: DeprecationWarning: `method='simplex'` is deprecated and will be removed in SciPy 1.11.0. Please use one of the HiGHS solvers (e.g. `method='highs'`) in new code.\n",
      "  result=linprog(c,A_eq=A_eq,b_eq=b_eq,method='simplex')\n",
      "<ipython-input-2-ba8d6412250b>:20: OptimizeWarning: A_eq does not appear to be of full row rank. To improve performance, check the problem formulation for redundant equality constraints.\n",
      "  result=linprog(c,A_eq=A_eq,b_eq=b_eq,method='simplex')\n"
     ]
    }
   ],
   "source": [
    "def transportation_problem(supply, demand, costs):\n",
    "    if sum(supply) != sum(demand):\n",
    "        if sum(supply) < sum(demand):\n",
    "            diff=sum(demand)-sum(supply)\n",
    "            supply.append(diff)\n",
    "            costs=np.hstack((costs,np.zeros((costs.shape[0],1))))\n",
    "        else:\n",
    "            diff=sum(supply)-sum(demand)\n",
    "            demand.append(diff)\n",
    "            costs=np.vstack((costs,np.zeros((1,costs.shape[1]))))\n",
    "    num_sources=len(supply)\n",
    "    num_destinations=len(demand)\n",
    "    A_eq=np.zeros((num_sources+num_destinations,num_sources*num_destinations))\n",
    "    for i in range(num_sources):\n",
    "        A_eq[i,i*num_destinations:(i+1)*num_destinations]=1\n",
    "    for j in range(num_sources,num_sources+num_destinations):\n",
    "        A_eq[j,j-num_sources::num_destinations]=1\n",
    "    b_eq=np.concatenate((supply,demand))\n",
    "    c=costs.flatten()\n",
    "    result=linprog(c,A_eq=A_eq,b_eq=b_eq,method='simplex')\n",
    "    allocation=result.x.reshape(num_sources,num_destinations)\n",
    "    total_cost=result.fun\n",
    "    return allocation,total_cost\n",
    "supply=[50,40,60]\n",
    "demand=[30,70,50]\n",
    "cost=np.array([[4,8,8],[2,7,6],[3,4,2]])\n",
    "allocation,total_cost=transportation_problem(supply,demand,cost)\n",
    "print(\"Optimal Allocation:\")\n",
    "print(allocation)\n",
    "print(\"Total Cost:\",total_cost)\n"
   ]
  },
  {
   "cell_type": "code",
   "execution_count": 3,
   "metadata": {
    "colab": {
     "base_uri": "https://localhost:8080/"
    },
    "executionInfo": {
     "elapsed": 108,
     "status": "ok",
     "timestamp": 1738904574185,
     "user": {
      "displayName": "GIRIVASANTH V 231501048",
      "userId": "16921059914672515157"
     },
     "user_tz": -330
    },
    "id": "BS0oGwhjyIyi",
    "outputId": "e01ef070-ffcf-4cc1-8378-1c2a21b970c6"
   },
   "outputs": [
    {
     "name": "stdout",
     "output_type": "stream",
     "text": [
      "Optimal Allocation (Transposed):\n",
      "[[20. 20.  0.  0.]\n",
      " [10.  0. 50. 10.]\n",
      " [ 0.  0.  0. 30.]]\n",
      "Total Cost: 380.0\n"
     ]
    },
    {
     "name": "stderr",
     "output_type": "stream",
     "text": [
      "<ipython-input-3-d221d4a0ee66>:23: DeprecationWarning: `method='simplex'` is deprecated and will be removed in SciPy 1.11.0. Please use one of the HiGHS solvers (e.g. `method='highs'`) in new code.\n",
      "  result = linprog(c, A_eq=A_eq, b_eq=b_eq, method='simplex')\n",
      "<ipython-input-3-d221d4a0ee66>:23: OptimizeWarning: A_eq does not appear to be of full row rank. To improve performance, check the problem formulation for redundant equality constraints.\n",
      "  result = linprog(c, A_eq=A_eq, b_eq=b_eq, method='simplex')\n"
     ]
    }
   ],
   "source": [
    "import numpy as np\n",
    "from scipy.optimize import linprog\n",
    "\n",
    "def transportation_problem(supply, demand, costs):\n",
    "    if sum(supply) != sum(demand):\n",
    "        if sum(supply) < sum(demand):\n",
    "            diff = sum(demand) - sum(supply)\n",
    "            supply.append(diff)\n",
    "            costs = np.hstack((costs, np.zeros((costs.shape[0], 1))))\n",
    "        else:\n",
    "            diff = sum(supply) - sum(demand)\n",
    "            demand.append(diff)\n",
    "            costs = np.vstack((costs, np.zeros((1, costs.shape[1]))))\n",
    "    num_sources = len(supply)\n",
    "    num_destinations = len(demand)\n",
    "    A_eq = np.zeros((num_sources + num_destinations, num_sources * num_destinations))\n",
    "    for i in range(num_sources):\n",
    "        A_eq[i, i * num_destinations: (i + 1) * num_destinations] = 1\n",
    "    for j in range(num_sources, num_sources + num_destinations):\n",
    "        A_eq[j, j - num_sources::num_destinations] = 1\n",
    "    b_eq = np.concatenate((supply, demand))\n",
    "    c = costs.flatten()\n",
    "    result = linprog(c, A_eq=A_eq, b_eq=b_eq, method='simplex')\n",
    "    allocation = result.x.reshape(num_sources, num_destinations)\n",
    "    total_cost = result.fun\n",
    "    allocation_transposed = allocation.T\n",
    "    return allocation_transposed, total_cost\n",
    "\n",
    "\n",
    "supply = [30, 20, 50]\n",
    "demand = [40, 70, 30]\n",
    "cost = np.array([[6, 8, 10], [9, 12, 13], [14, 16, 18]])\n",
    "allocation_transposed, total_cost = transportation_problem(supply, demand, cost)\n",
    "print(\"Optimal Allocation (Transposed):\")\n",
    "print(allocation_transposed)\n",
    "print(\"Total Cost:\", total_cost)\n"
   ]
  }
 ],
 "metadata": {
  "colab": {
   "authorship_tag": "ABX9TyOfKDEHLnFidkBz+qRVz+sS",
   "provenance": []
  },
  "kernelspec": {
   "display_name": "Python [conda env:base] *",
   "language": "python",
   "name": "conda-base-py"
  },
  "language_info": {
   "codemirror_mode": {
    "name": "ipython",
    "version": 3
   },
   "file_extension": ".py",
   "mimetype": "text/x-python",
   "name": "python",
   "nbconvert_exporter": "python",
   "pygments_lexer": "ipython3",
   "version": "3.12.7"
  }
 },
 "nbformat": 4,
 "nbformat_minor": 4
}

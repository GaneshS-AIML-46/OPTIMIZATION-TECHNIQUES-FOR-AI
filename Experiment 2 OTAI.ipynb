{
 "cells": [
  {
   "cell_type": "code",
   "execution_count": 1,
   "metadata": {
    "colab": {
     "base_uri": "https://localhost:8080/"
    },
    "executionInfo": {
     "elapsed": 11,
     "status": "ok",
     "timestamp": 1738907133493,
     "user": {
      "displayName": "HARISH M 231501058",
      "userId": "07865809181949680614"
     },
     "user_tz": -330
    },
    "id": "VPBhbyrTxtjx",
    "outputId": "f9a98c6a-aa8a-4ece-a06a-7d5b6f513cde"
   },
   "outputs": [
    {
     "name": "stdout",
     "output_type": "stream",
     "text": [
      "Unbalanced assignment problem detected.\n",
      "Padded cost matrix (add dummy Column):\n",
      "[[30. 39. 31. 38. 40.  0.]\n",
      " [43. 37. 32. 35. 38.  0.]\n",
      " [34. 41. 33. 41. 34.  0.]\n",
      " [39. 36. 43. 32. 36.  0.]\n",
      " [32. 49. 35. 40. 37.  0.]\n",
      " [36. 42. 35. 44. 42.  0.]]\n",
      "\n",
      "Optimal Assignment:\n",
      "Job 1 assigned to Machine 3\n",
      "Job 2 assigned to Machine 2\n",
      "Job 3 assigned to Machine 5\n",
      "Job 4 assigned to Machine 4\n",
      "Job 5 assigned to Machine 1\n",
      "Job 6 assigned to Machine 6\n",
      "\n",
      "Minimum Total Cost: 166.0\n"
     ]
    }
   ],
   "source": [
    "from scipy.optimize import linear_sum_assignment\n",
    "import numpy as np\n",
    "\n",
    "def solve_assignment_problem(cost_matrix, problem_type=\"balanced\"):\n",
    "    if problem_type == \"unbalanced\":\n",
    "        print(\"Unbalanced assignment problem detected.\")\n",
    "        # Pad the cost matrix with zeros for unbalanced problems\n",
    "        num_workers, num_tasks = cost_matrix.shape\n",
    "        max_dim = max(num_workers, num_tasks)\n",
    "        padded_cost_matrix = np.zeros((max_dim, max_dim))\n",
    "        padded_cost_matrix[:num_workers, :num_tasks] = cost_matrix\n",
    "        print(\"Padded cost matrix (add dummy Column):\")\n",
    "        print(padded_cost_matrix)\n",
    "        cost_matrix = padded_cost_matrix\n",
    "\n",
    "    # Solve the assignment problem\n",
    "    row_ind, col_ind = linear_sum_assignment(cost_matrix)\n",
    "\n",
    "    if problem_type == \"unbalanced\":\n",
    "        # Filter out assignments to dummy tasks/workers\n",
    "        valid_assignments = col_ind < cost_matrix.shape[1]  # Assuming more tasks than workers\n",
    "        row_ind = row_ind[valid_assignments]\n",
    "        col_ind = col_ind[valid_assignments]\n",
    "\n",
    "        # Recalculate total cost using the original cost matrix (passed as argument)\n",
    "        # to avoid including dummy costs.\n",
    "        total_cost = cost_matrix[row_ind, col_ind].sum()\n",
    "\n",
    "    else:\n",
    "        # Calculate total cost for 'balanced' case (this was missing)\n",
    "        total_cost = cost_matrix[row_ind, col_ind].sum()\n",
    "\n",
    "    return row_ind, col_ind, total_cost\n",
    "\n",
    "# Example usage with your provided matrix:\n",
    "cost_matrix = np.array([[30, 39, 31, 38,40],\n",
    "                        [43, 37, 32, 35,38],\n",
    "                        [34, 41, 33, 41,34],\n",
    "                        [39, 36, 43, 32,36],\n",
    "                        [32, 49, 35, 40, 37],\n",
    "                        [36, 42, 35, 44, 42]])\n",
    "\n",
    "\n",
    "# Calling the correct function name: solve_assignment_problem\n",
    "row_ind, col_ind, total_cost = solve_assignment_problem(cost_matrix, problem_type=\"unbalanced\")\n",
    "\n",
    "print(\"\\nOptimal Assignment:\")\n",
    "for i in range(len(row_ind)):\n",
    "    print(f\"Job {row_ind[i]+1} assigned to Machine {col_ind[i]+1}\")\n",
    "\n",
    "print(f\"\\nMinimum Total Cost: {total_cost}\")\n"
   ]
  },
  {
   "cell_type": "code",
   "execution_count": null,
   "metadata": {
    "id": "d_nNo38KxvBi"
   },
   "outputs": [],
   "source": []
  }
 ],
 "metadata": {
  "colab": {
   "authorship_tag": "ABX9TyPkLmxfIr9zW2zOMsH61VGA",
   "provenance": []
  },
  "kernelspec": {
   "display_name": "Python 3 (ipykernel)",
   "language": "python",
   "name": "python3"
  },
  "language_info": {
   "codemirror_mode": {
    "name": "ipython",
    "version": 3
   },
   "file_extension": ".py",
   "mimetype": "text/x-python",
   "name": "python",
   "nbconvert_exporter": "python",
   "pygments_lexer": "ipython3",
   "version": "3.12.7"
  }
 },
 "nbformat": 4,
 "nbformat_minor": 4
}

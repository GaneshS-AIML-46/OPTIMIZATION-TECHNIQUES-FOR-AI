{
 "cells": [
  {
   "cell_type": "code",
   "execution_count": 1,
   "metadata": {
    "colab": {
     "base_uri": "https://localhost:8080/"
    },
    "executionInfo": {
     "elapsed": 11,
     "status": "ok",
     "timestamp": 1740721884774,
     "user": {
      "displayName": "GANESH S 231501046",
      "userId": "12955083252446110846"
     },
     "user_tz": -330
    },
    "id": "IN4rcYPV71Gz",
    "outputId": "3c66f16a-4750-4139-f69d-a69f24348700"
   },
   "outputs": [
    {
     "name": "stdout",
     "output_type": "stream",
     "text": [
      "Optimal solution: [2. 5.]\n",
      "Optimal value: -31.0\n"
     ]
    }
   ],
   "source": [
    "import numpy as np\n",
    "from scipy.optimize import linprog\n",
    "from queue import Queue\n",
    "\n",
    "# Function to solve the linear programming relaxation\n",
    "def solve_lp(c, A, b, bounds):\n",
    "    res = linprog(c, A_ub=A, b_ub=b, bounds=bounds, method='highs')\n",
    "    return res\n",
    "\n",
    "# Branch and Bound method\n",
    "def branch_and_bound(c, A, b, bounds):\n",
    "    Q = Queue()\n",
    "    Q.put((c, A, b, bounds))\n",
    "    best_solution = None\n",
    "    best_value = float('-inf')\n",
    "\n",
    "    while not Q.empty():\n",
    "        current_problem = Q.get()\n",
    "        res = solve_lp(*current_problem)\n",
    "\n",
    "        if res.success and -res.fun > best_value:\n",
    "            solution = res.x\n",
    "\n",
    "            if all(np.isclose(solution, np.round(solution))):\n",
    "                value = res.fun  # Objective function value\n",
    "                if value > best_value:\n",
    "                    best_value = value\n",
    "                    best_solution = solution\n",
    "            else:\n",
    "                # Branching\n",
    "                for i in range(len(solution)):\n",
    "                    if not np.isclose(solution[i], np.round(solution[i])):\n",
    "                        lower_bound = current_problem[3].copy()\n",
    "                        upper_bound = current_problem[3].copy()\n",
    "                        lower_bound[i] = (lower_bound[i][0], np.floor(solution[i]))\n",
    "                        upper_bound[i] = (np.ceil(solution[i]), upper_bound[i][1])\n",
    "                        Q.put((current_problem[0], current_problem[1], current_problem[2], lower_bound))\n",
    "                        Q.put((current_problem[0], current_problem[1], current_problem[2], upper_bound))\n",
    "                        break\n",
    "\n",
    "    return best_solution, best_value\n",
    "\n",
    "# Example usage\n",
    "c = [-3, -5]  # Coefficients for the objective function (maximize)\n",
    "A = [[2, 4], [1, 0],[0,2]]  # Coefficients for the constraints\n",
    "b = [25, 8,10]  # RHS values for the constraints\n",
    "bounds = [(0, None), (0, None)]  # Bounds for the variables\n",
    "\n",
    "# Solve the integer programming problem\n",
    "solution, value = branch_and_bound(c, A, b, bounds)\n",
    "print(f\"Optimal solution: {solution}\")\n",
    "print(f\"Optimal value: {value}\")"
   ]
  },
  {
   "cell_type": "code",
   "execution_count": 2,
   "metadata": {
    "colab": {
     "base_uri": "https://localhost:8080/"
    },
    "executionInfo": {
     "elapsed": 11,
     "status": "ok",
     "timestamp": 1740721404383,
     "user": {
      "displayName": "GANESH S 231501046",
      "userId": "12955083252446110846"
     },
     "user_tz": -330
    },
    "id": "FTT4CuOfDyYT",
    "outputId": "9d6f5d1b-3a77-4704-8f49-55e064b9a18c"
   },
   "outputs": [
    {
     "name": "stdout",
     "output_type": "stream",
     "text": [
      "Optimal solution: [2. 5.]\n",
      "Optimal value: -31.0\n"
     ]
    }
   ],
   "source": [
    "#problem 1\n",
    "\n",
    "c = [-3, -5]\n",
    "A = [[2, 4], [1, 0],[0,2]]\n",
    "b = [25, 8,10]\n",
    "bounds = [(0, None), (0, None)]\n",
    "\n",
    "# Solve the integer programming problem\n",
    "solution, value = branch_and_bound(c, A, b, bounds)\n",
    "print(f\"Optimal solution: {solution}\")\n",
    "print(f\"Optimal value: {value}\")"
   ]
  },
  {
   "cell_type": "code",
   "execution_count": 3,
   "metadata": {
    "colab": {
     "base_uri": "https://localhost:8080/"
    },
    "executionInfo": {
     "elapsed": 11,
     "status": "ok",
     "timestamp": 1740721405709,
     "user": {
      "displayName": "GANESH S 231501046",
      "userId": "12955083252446110846"
     },
     "user_tz": -330
    },
    "id": "p46pTjfLDzlz",
    "outputId": "4cf03093-b486-45f2-eb94-fec99e78b035"
   },
   "outputs": [
    {
     "name": "stdout",
     "output_type": "stream",
     "text": [
      "Optimal solution: [ 5. -0.]\n",
      "Optimal value: -35.0\n"
     ]
    }
   ],
   "source": [
    "# problem 2\n",
    "c = [-7, -9]\n",
    "A = [[-1, 3], [7, 1],[0,1]]\n",
    "b = [6, 35,7]\n",
    "bounds = [(0, None), (0, None)]\n",
    "# Solve the integer programming problem\n",
    "solution, value = branch_and_bound(c, A, b, bounds)\n",
    "print(f\"Optimal solution: {solution}\")\n",
    "print(f\"Optimal value: {value}\")"
   ]
  },
  {
   "cell_type": "code",
   "execution_count": 4,
   "metadata": {
    "colab": {
     "base_uri": "https://localhost:8080/"
    },
    "executionInfo": {
     "elapsed": 43,
     "status": "ok",
     "timestamp": 1740722019414,
     "user": {
      "displayName": "GANESH S 231501046",
      "userId": "12955083252446110846"
     },
     "user_tz": -330
    },
    "id": "gLSO66I6EcbL",
    "outputId": "f0b1f197-4991-4d1a-c935-0bbfd348c522"
   },
   "outputs": [
    {
     "name": "stdout",
     "output_type": "stream",
     "text": [
      "Optimal solution: [2. 0.]\n",
      "Optimal value: 10.0\n"
     ]
    }
   ],
   "source": [
    "# problem 3\n",
    "\n",
    "import numpy as np\n",
    "from scipy.optimize import linprog\n",
    "from queue import Queue\n",
    "\n",
    "# Function to solve the linear programming relaxation\n",
    "def solve_lp(c, A, b, bounds):\n",
    "    res = linprog(c, A_ub=A, b_ub=b, bounds=bounds, method='highs')\n",
    "    return res\n",
    "\n",
    "# Branch and Bound method\n",
    "def branch_and_bound(c, A, b, bounds):\n",
    "    Q = Queue()\n",
    "    Q.put((c, A, b, bounds))\n",
    "    best_solution = None\n",
    "    best_value = float('-inf')\n",
    "\n",
    "    while not Q.empty():\n",
    "        current_problem = Q.get()\n",
    "        res = solve_lp(*current_problem)\n",
    "\n",
    "      #change -res to res\n",
    "        if res.success and res.fun > best_value:#1\n",
    "            solution = res.x\n",
    "\n",
    "            if all(np.isclose(solution, np.round(solution))):\n",
    "                value = res.fun  # Objective function value\n",
    "                if value > best_value:\n",
    "                    best_value = value\n",
    "                    best_solution = solution\n",
    "            else:\n",
    "                # Branching\n",
    "                for i in range(len(solution)):\n",
    "                    if not np.isclose(solution[i], np.round(solution[i])):\n",
    "                        lower_bound = current_problem[3].copy()\n",
    "                        upper_bound = current_problem[3].copy()\n",
    "                        lower_bound[i] = (lower_bound[i][0], np.floor(solution[i]))\n",
    "                        upper_bound[i] = (np.ceil(solution[i]), upper_bound[i][1])\n",
    "                        Q.put((current_problem[0], current_problem[1], current_problem[2], lower_bound))\n",
    "                        Q.put((current_problem[0], current_problem[1], current_problem[2], upper_bound))\n",
    "                        break\n",
    "\n",
    "    return best_solution, best_value\n",
    "\n",
    "\n",
    "\n",
    "\n",
    "\n",
    "c = [5, 4]\n",
    "A = [[-3, -2], [2, 3]]\n",
    "b = [-5, 7]\n",
    "bounds = [(0, None), (0, None)]\n",
    "# Solve the integer programming problem\n",
    "solution, value = branch_and_bound(c, A, b, bounds)\n",
    "print(f\"Optimal solution: {solution}\")\n",
    "print(f\"Optimal value: {value}\")"
   ]
  },
  {
   "cell_type": "code",
   "execution_count": null,
   "metadata": {},
   "outputs": [],
   "source": []
  },
  {
   "cell_type": "code",
   "execution_count": null,
   "metadata": {},
   "outputs": [],
   "source": []
  },
  {
   "cell_type": "code",
   "execution_count": null,
   "metadata": {},
   "outputs": [],
   "source": []
  },
  {
   "cell_type": "code",
   "execution_count": null,
   "metadata": {},
   "outputs": [],
   "source": []
  }
 ],
 "metadata": {
  "colab": {
   "provenance": [
    {
     "file_id": "1JkayeXkgEZvfGVWIMMlbH5gWZbOpSEcV",
     "timestamp": 1743142265284
    }
   ]
  },
  "kernelspec": {
   "display_name": "Python [conda env:base] *",
   "language": "python",
   "name": "conda-base-py"
  },
  "language_info": {
   "codemirror_mode": {
    "name": "ipython",
    "version": 3
   },
   "file_extension": ".py",
   "mimetype": "text/x-python",
   "name": "python",
   "nbconvert_exporter": "python",
   "pygments_lexer": "ipython3",
   "version": "3.12.7"
  }
 },
 "nbformat": 4,
 "nbformat_minor": 4
}

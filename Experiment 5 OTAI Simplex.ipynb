{
 "cells": [
  {
   "cell_type": "code",
   "execution_count": 1,
   "metadata": {
    "colab": {
     "base_uri": "https://localhost:8080/"
    },
    "executionInfo": {
     "elapsed": 16,
     "status": "ok",
     "timestamp": 1740115408252,
     "user": {
      "displayName": "HARISH M 231501058",
      "userId": "07865809181949680614"
     },
     "user_tz": -330
    },
    "id": "qWk12vyr4eD1",
    "outputId": "cd44ce3d-be1d-403f-cdf6-fb99f18a8af8"
   },
   "outputs": [
    {
     "name": "stdout",
     "output_type": "stream",
     "text": [
      "Optimal Value: 40.0\n",
      "Values of x:  [ 0. 20.]\n"
     ]
    }
   ],
   "source": [
    "import numpy as np\n",
    "from scipy.optimize import linprog\n",
    "\n",
    "c=[-3,-2]\n",
    "A=[[2,1],[4,-5]]\n",
    "b=[20,10]\n",
    "\n",
    "x_bounds=(0,None)\n",
    "y_bounds=(0,None)\n",
    "result = linprog(c, A_ub=A, b_ub=b, bounds=[x_bounds, y_bounds],\n",
    "method='highs')\n",
    "print(\"Optimal Value:\",-result.fun)\n",
    "print(\"Values of x: \",result.x)"
   ]
  },
  {
   "cell_type": "code",
   "execution_count": 2,
   "metadata": {
    "colab": {
     "base_uri": "https://localhost:8080/"
    },
    "executionInfo": {
     "elapsed": 20,
     "status": "ok",
     "timestamp": 1740115414518,
     "user": {
      "displayName": "HARISH M 231501058",
      "userId": "07865809181949680614"
     },
     "user_tz": -330
    },
    "id": "vPVPPcLI6Sr9",
    "outputId": "9d25d72c-eaea-402c-a9d1-616dcf7a0662"
   },
   "outputs": [
    {
     "name": "stdout",
     "output_type": "stream",
     "text": [
      "Optimal Value: 20.0\n",
      "Values of x:  [0. 4.]\n"
     ]
    }
   ],
   "source": [
    "import numpy as np\n",
    "from scipy.optimize import linprog\n",
    "\n",
    "c=[-3,-5]\n",
    "A=[[2,3],[1,1]]\n",
    "b=[12,5]\n",
    "\n",
    "x_bounds=(0,None)\n",
    "y_bounds=(0,None)\n",
    "result = linprog(c, A_ub=A, b_ub=b, bounds=[x_bounds, y_bounds],\n",
    "method='highs')\n",
    "print(\"Optimal Value:\",-result.fun)\n",
    "print(\"Values of x: \",result.x)"
   ]
  },
  {
   "cell_type": "code",
   "execution_count": 3,
   "metadata": {
    "colab": {
     "base_uri": "https://localhost:8080/"
    },
    "executionInfo": {
     "elapsed": 14,
     "status": "ok",
     "timestamp": 1740115524151,
     "user": {
      "displayName": "HARISH M 231501058",
      "userId": "07865809181949680614"
     },
     "user_tz": -330
    },
    "id": "3FmwRMn19gyl",
    "outputId": "32eb5770-5a1f-430f-ae34-72c911847c55"
   },
   "outputs": [
    {
     "name": "stdout",
     "output_type": "stream",
     "text": [
      "Optimal Value: 240.0\n",
      "Values of x:  [ 6. 12.]\n"
     ]
    }
   ],
   "source": [
    "import numpy as np\n",
    "from scipy.optimize import linprog\n",
    "\n",
    "c=[-20,-10]\n",
    "A=[[1,2],[3,1],[4,3]]\n",
    "b=[40,30,60]\n",
    "\n",
    "x_bounds=(0,None)\n",
    "y_bounds=(0,None)\n",
    "result = linprog(c, A_ub=A, b_ub=b, bounds=[x_bounds, y_bounds],\n",
    "method='highs')\n",
    "print(\"Optimal Value:\",-result.fun)\n",
    "print(\"Values of x: \",result.x)"
   ]
  },
  {
   "cell_type": "code",
   "execution_count": null,
   "metadata": {
    "id": "JdkP2SjO9tB1"
   },
   "outputs": [],
   "source": []
  },
  {
   "cell_type": "code",
   "execution_count": null,
   "metadata": {},
   "outputs": [],
   "source": []
  },
  {
   "cell_type": "code",
   "execution_count": null,
   "metadata": {},
   "outputs": [],
   "source": []
  },
  {
   "cell_type": "code",
   "execution_count": null,
   "metadata": {},
   "outputs": [],
   "source": []
  }
 ],
 "metadata": {
  "colab": {
   "authorship_tag": "ABX9TyNGDEgt9yvlDIWO50CtHQPE",
   "provenance": []
  },
  "kernelspec": {
   "display_name": "Python 3 (ipykernel)",
   "language": "python",
   "name": "python3"
  },
  "language_info": {
   "codemirror_mode": {
    "name": "ipython",
    "version": 3
   },
   "file_extension": ".py",
   "mimetype": "text/x-python",
   "name": "python",
   "nbconvert_exporter": "python",
   "pygments_lexer": "ipython3",
   "version": "3.12.7"
  }
 },
 "nbformat": 4,
 "nbformat_minor": 4
}
